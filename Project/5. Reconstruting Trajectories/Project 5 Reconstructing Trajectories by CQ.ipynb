{
 "cells": [
  {
   "cell_type": "code",
   "execution_count": 110,
   "metadata": {},
   "outputs": [
    {
     "name": "stdout",
     "output_type": "stream",
     "text": [
      "(0.0, 0, 0.0, 0.0)\n",
      "(0.25, 0.0, 0.0, 19.6)\n",
      "(0.5, 1.225, 0.0, 19.6)\n",
      "(0.75, 3.6750000000000003, 0.0, 19.6)\n",
      "(1.0, 7.3500000000000005, 0.0, 19.6)\n",
      "(1.25, 12.25, 0.0, 0.0)\n",
      "(1.5, 17.15, -2.8290163190291664, 0.0)\n",
      "(1.75, 22.049999999999997, -2.8290163190291664, 0.0)\n",
      "(2.0, 26.949999999999996, -2.8290163190291664, 0.0)\n",
      "(2.25, 31.849999999999994, -2.8290163190291664, 0.0)\n",
      "(2.5, 36.74999999999999, -2.8290163190291664, 0.0)\n",
      "(2.75, 41.64999999999999, -2.8290163190291664, 0.0)\n",
      "(3.0, 46.54999999999999, -2.8290163190291664, 0.0)\n",
      "(3.25, 51.44999999999999, -2.8290163190291664, 0.0)\n",
      "(3.5, 56.34999999999999, -2.8290163190291664, 0.0)\n"
     ]
    }
   ],
   "source": [
    "from helpers import process_data\n",
    "\n",
    "data_list = process_data(\"trajectory_example.pickle\")\n",
    "\n",
    "\n",
    "for entry in data_list:\n",
    "    print(entry)"
   ]
  },
  {
   "cell_type": "code",
   "execution_count": 111,
   "metadata": {},
   "outputs": [],
   "source": [
    "from math import cos,sin, pi\n",
    "import matplotlib.pyplot as plt\n",
    "import warnings \n",
    "warnings.filterwarnings('ignore')\n",
    "\n",
    "# Define column indices in data array data_list\n",
    "timestamp_index = 0\n",
    "displacement_index = 1\n",
    "yaw_rate_index = 2\n",
    "acceleration_index = 3\n",
    "\n",
    "# convert the timestamp and displacement into speed \n",
    "def get_speed(data_list):\n",
    "    speed = 0.0\n",
    "    \n",
    "    speeds = [speed]\n",
    "    for index in range(1,len(data_list)):\n",
    "        last_row = data_list[index - 1]\n",
    "        row = data_list[index]\n",
    "        \n",
    "        time = row[timestamp_index] - last_row[timestamp_index]\n",
    "        acceleration = row[acceleration_index]\n",
    "        speed += time*acceleration\n",
    "        speeds.append(speed)\n",
    "    return speeds\n",
    "\n",
    "# get headings by multiplied yaw_rate by time_delta\n",
    "def get_headings(data_list):\n",
    "    heading = 0.0\n",
    "    headings = [heading]\n",
    "    \n",
    "    for index in range(1,len(data_list)):\n",
    "        last_row = data_list[index - 1]\n",
    "        row = data_list[index]\n",
    "        \n",
    "        time = row[timestamp_index] - last_row[timestamp_index]\n",
    "        diff = row[yaw_rate_index]\n",
    "        heading += time*diff\n",
    "        headings.append(heading)\n",
    "    return headings\n",
    "\n",
    "# This function will get vehicle's coordinates\n",
    "def get_x_y(data_list):\n",
    "    headings = get_headings(data_list)\n",
    "    \n",
    "    x = 0\n",
    "    y = 0\n",
    "    \n",
    "    positions = [(x,y)]\n",
    "    \n",
    "    for index in range(1,len(data_list)):\n",
    "        \n",
    "        positions.append((x,y))\n",
    "        \n",
    "        last_row = data_list[index - 1]\n",
    "        row = data_list[index]\n",
    "        \n",
    "        time = row[timestamp_index] - last_row[timestamp_index]\n",
    "        move_diff = row[displacement_index] - last_row[displacement_index]\n",
    "        heading = headings[index]\n",
    "        \n",
    "        x += cos(heading)*move_diff\n",
    "        y += sin(heading)*move_diff\n",
    "    return positions\n",
    "    \n",
    "\n",
    "# show the vehicle's pistion and movement direction at all time stamps\n",
    "\n",
    "def show_x_y(data_list):\n",
    "    \n",
    "    positions = get_x_y(data_list)\n",
    "    headings = get_headings(data_list)\n",
    "    \n",
    "    X = [row[0] for row in positions]\n",
    "    Y = [row[1] for row in positions]\n",
    "    U = [cos(heading) for heading in headings]\n",
    "    V = [sin(heading) for heading in headings]\n",
    "    \n",
    "    plt.figure()\n",
    "    plt.title('Trajectory visualization')\n",
    "    plt.axes().set_aspect('equal')\n",
    "    Q = plt.quiver(X, Y, U, V, units = 'width')\n",
    "    qk = plt.quiverkey(Q,0.9,0.9,2,r'$2 \\frac{m}{s}$', labelpos = 'E', coordinates = 'figure')\n",
    "    plt.show()\n",
    "    \n",
    "    return \n",
    "    "
   ]
  },
  {
   "cell_type": "code",
   "execution_count": 112,
   "metadata": {},
   "outputs": [
    {
     "data": {
      "image/png": "[encoded data removed]",
      "text/plain": [
       "<Figure size 432x288 with 1 Axes>"
      ]
     },
     "metadata": {
      "needs_background": "light"
     },
     "output_type": "display_data"
    }
   ],
   "source": [
    "show_x_y(data_list)"
   ]
  }
 ],
 "metadata": {
  "kernelspec": {
   "display_name": "Python 3",
   "language": "python",
   "name": "python3"
  },
  "language_info": {
   "codemirror_mode": {
    "name": "ipython",
    "version": 3
   },
   "file_extension": ".py",
   "mimetype": "text/x-python",
   "name": "python",
   "nbconvert_exporter": "python",
   "pygments_lexer": "ipython3",
   "version": "3.7.6"
  }
 },
 "nbformat": 4,
 "nbformat_minor": 4
}
